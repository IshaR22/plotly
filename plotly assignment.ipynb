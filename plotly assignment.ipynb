{
 "cells": [
  {
   "cell_type": "code",
   "execution_count": null,
   "id": "8c9b7458-d10b-4399-aeb0-764ae89428a8",
   "metadata": {},
   "outputs": [],
   "source": [
    "Q1. Load the \"titanic\" dataset using the load_dataset function of seaborn. Use Plotly express to plot a\n",
    "scatter plot for age and fare columns in the titanic dataset."
   ]
  },
  {
   "cell_type": "code",
   "execution_count": null,
   "id": "76bed6e2-be73-41ca-b4e3-5ad17c66c6c6",
   "metadata": {},
   "outputs": [],
   "source": [
    "pip install plotly"
   ]
  },
  {
   "cell_type": "code",
   "execution_count": null,
   "id": "6167a770-cce3-4a9c-b3a7-9a30e158717f",
   "metadata": {},
   "outputs": [],
   "source": [
    "import plotly.graph_objects as go\n",
    "import seaborn as sns"
   ]
  },
  {
   "cell_type": "code",
   "execution_count": null,
   "id": "e31a66e6-f364-43d3-83f2-a6ad8cae4344",
   "metadata": {},
   "outputs": [],
   "source": [
    "t=sns.load_dataset('titanic')\n",
    "fig = go.Figure()\n",
    "fig.add_trace(go.Scatter(x=t.age, y=t.fare , mode='markers' ))"
   ]
  },
  {
   "cell_type": "code",
   "execution_count": null,
   "id": "80e4e54b-f64a-4b1a-b0bf-0c3b1ecc7d2f",
   "metadata": {},
   "outputs": [],
   "source": [
    "Q2. Using the tips dataset in the Plotly library, plot a box plot using Plotly express."
   ]
  },
  {
   "cell_type": "code",
   "execution_count": null,
   "id": "53b2f444-2adf-4c7c-a04c-b29f33f555ea",
   "metadata": {},
   "outputs": [],
   "source": [
    "import plotly.express as px\n",
    "import seaborn as sns\n",
    "tips = sns.load_dataset('tips')\n",
    "fig = px.box(tips, x='day', y='total_bill', color='smoker')\n",
    "fig.show()\n"
   ]
  },
  {
   "cell_type": "code",
   "execution_count": null,
   "id": "677505f7-c484-4ddb-9e26-7168f159e35c",
   "metadata": {},
   "outputs": [],
   "source": [
    "Q3. Using the tips dataset in the Plotly library, Plot a histogram for x= \"sex\" and y=\"total_bill\" column in\n",
    "the tips dataset. Also, use the \"smoker\" column with the pattern_shape parameter and the \"day\"\n",
    "column with the color parameter."
   ]
  },
  {
   "cell_type": "code",
   "execution_count": null,
   "id": "1a170788-ca99-411b-8a45-36f951531e6d",
   "metadata": {},
   "outputs": [],
   "source": [
    "fig = px.histogram(tips, x='sex', y='total_bill', color='day', pattern_shape='smoker')\n",
    "fig.show()"
   ]
  },
  {
   "cell_type": "code",
   "execution_count": null,
   "id": "4ed3b967-e893-4727-a8a8-e7417ac65b0f",
   "metadata": {},
   "outputs": [],
   "source": [
    "Q4. Using the iris dataset in the Plotly library, Plot a scatter matrix plot, using the \"species\" column for\n",
    "the color parameter."
   ]
  },
  {
   "cell_type": "code",
   "execution_count": null,
   "id": "4803e00a-5787-45c9-9709-372b1ad9b80d",
   "metadata": {},
   "outputs": [],
   "source": [
    "import plotly.express as px\n",
    "import seaborn as sns\n",
    "df = px.data.iris()\n",
    "fig = px.scatter_matrix(df,\n",
    "                        dimensions=[\"sepal_length\", \"sepal_width\", \"petal_length\", \"petal_width\"],\n",
    "                        color=\"species\",\n",
    "                        title=\"Scatter Matrix Plot of Iris Dataset by Species\")\n",
    "fig.show()\n"
   ]
  },
  {
   "cell_type": "code",
   "execution_count": null,
   "id": "bbe54cf6-78de-43a3-ad5b-c19d9790c841",
   "metadata": {},
   "outputs": [],
   "source": [
    "Q5. What is Distplot? Using Plotly express, plot a distplot."
   ]
  },
  {
   "cell_type": "code",
   "execution_count": null,
   "id": "02a7c553-1a4b-4e6b-a110-6a0ae3ac4aa6",
   "metadata": {},
   "outputs": [],
   "source": [
    "In Plotly, there isn't a direct distplot function.we can use other plots having same functionality such as\n",
    "histograms or KDE (Kernel Density Estimation) plots. which are similar to a distplot."
   ]
  },
  {
   "cell_type": "code",
   "execution_count": null,
   "id": "657f8afc-b8c5-415a-9394-4ef27e354996",
   "metadata": {},
   "outputs": [],
   "source": [
    "import plotly.express as px\n",
    "import seaborn as sns\n",
    "tips = sns.load_dataset('tips')\n",
    "fig = px.density_contour(tips, x='total_bill', y='tip')\n",
    "\n",
    "fig.show()"
   ]
  }
 ],
 "metadata": {
  "kernelspec": {
   "display_name": "Python 3 (ipykernel)",
   "language": "python",
   "name": "python3"
  },
  "language_info": {
   "codemirror_mode": {
    "name": "ipython",
    "version": 3
   },
   "file_extension": ".py",
   "mimetype": "text/x-python",
   "name": "python",
   "nbconvert_exporter": "python",
   "pygments_lexer": "ipython3",
   "version": "3.10.8"
  }
 },
 "nbformat": 4,
 "nbformat_minor": 5
}
